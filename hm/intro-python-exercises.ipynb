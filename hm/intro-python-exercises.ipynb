{
 "cells": [
  {
   "cell_type": "markdown",
   "metadata": {},
   "source": [
    "## Introduction to Python Exercises\n",
    "\n",
    "Before you turn this problem in, make sure everything runs as expected. First, restart the kernel (in the menubar, select Kernel → Restart) and then run all cells (in the menubar, select Cell → Run All).  You can speak with others regarding the assignment but all work must be your own. \n",
    "\n",
    "\n",
    "### This is a 30 point assignment graded from answers to questions and automated tests that should be run at the bottom. Be sure to clearly label all of your answers and commit final tests at the end. If you attempt to fake passing the tests you will receive a 0 on the assignment and it will be considered an ethical violation. (Note, not all questions have tests).\n"
   ]
  },
  {
   "cell_type": "code",
   "execution_count": 223,
   "metadata": {
    "collapsed": true
   },
   "outputs": [],
   "source": [
    "NAME = \"Samantha Albano\"\n",
    "COLLABORATORS = [\"Lauren Hiltz, Albert Chang, Jen Losh\"]  #You can speak with others regarding the assignment, but all typed work must be your own."
   ]
  },
  {
   "cell_type": "code",
   "execution_count": 224,
   "metadata": {
    "collapsed": true
   },
   "outputs": [],
   "source": [
    "# If you have trouble loading your unittests below, \n",
    "#!conda config --add channels conda-forge"
   ]
  },
  {
   "cell_type": "code",
   "execution_count": 225,
   "metadata": {
    "collapsed": true
   },
   "outputs": [],
   "source": [
    "#!conda install --yes ipython_unittest"
   ]
  },
  {
   "cell_type": "markdown",
   "metadata": {},
   "source": [
    "### This Loads a Testing Array \n",
    "- This runs tests against your b array.  If you complete the assingment correctly, you will pass the tests. \n",
    "- **If you attempt to fake passing the tests you will receive a 0 on the assignment and it will be considered an ethical violation.**"
   ]
  },
  {
   "cell_type": "code",
   "execution_count": 226,
   "metadata": {},
   "outputs": [
    {
     "name": "stdout",
     "output_type": "stream",
     "text": [
      "The ipython_unittest extension is already loaded. To reload it, use:\n",
      "  %reload_ext ipython_unittest\n"
     ]
    }
   ],
   "source": [
    "%load_ext ipython_unittest\n",
    "#This runs tests against your b array.  If you complete the assingment correctly, you will pass the tests. "
   ]
  },
  {
   "cell_type": "markdown",
   "metadata": {},
   "source": [
    "## Exercises - For and If.\n",
    "\n",
    "(1). Write a program which create a list called `fivetoten` of all numbers from 5 to 10 (inclusive).\n",
    "\n",
    "\n"
   ]
  },
  {
   "cell_type": "code",
   "execution_count": 227,
   "metadata": {},
   "outputs": [
    {
     "data": {
      "text/plain": [
       "[5, 6, 7, 8, 9, 10]"
      ]
     },
     "execution_count": 227,
     "metadata": {},
     "output_type": "execute_result"
    }
   ],
   "source": [
    "#Answer question 1 here.\n",
    "\n",
    "fivetoten = []\n",
    "for n in range(5,11):\n",
    "    fivetoten.append(n)\n",
    "fivetoten"
   ]
  },
  {
   "cell_type": "markdown",
   "metadata": {},
   "source": [
    "(2). Write a program which uses a for loop and if statements to create a list called `divby7` of all numbers from 1-50 that are divisible by 7.\n",
    "Hint: 14 is divisible by 7 if 14%7==0."
   ]
  },
  {
   "cell_type": "code",
   "execution_count": 228,
   "metadata": {},
   "outputs": [
    {
     "data": {
      "text/plain": [
       "[7, 14, 21, 28, 35, 42, 49]"
      ]
     },
     "execution_count": 228,
     "metadata": {},
     "output_type": "execute_result"
    }
   ],
   "source": [
    "#Answer question 2 here.\n",
    "\n",
    "divby7= [i for i in range(1,51) if i % 7 == 0]\n",
    "divby7"
   ]
  },
  {
   "cell_type": "markdown",
   "metadata": {},
   "source": [
    "(3). Write a program which uses a for loop and if statements create a list `divby7not5` of all numbers which are divisible by 7 but are not a multiple of 5, between 10000 and 10100 (both included). \n"
   ]
  },
  {
   "cell_type": "code",
   "execution_count": 229,
   "metadata": {},
   "outputs": [
    {
     "data": {
      "text/plain": [
       "[10003, 10017, 10024, 10031, 10038, 10052, 10059, 10066, 10073, 10087, 10094]"
      ]
     },
     "execution_count": 229,
     "metadata": {},
     "output_type": "execute_result"
    }
   ],
   "source": [
    "#Answer question 3 here.\n",
    "\n",
    "divby7not5= [i for i in range(10000,10101) if i % 7 == 0 and i % 5 != 0]\n",
    "divby7not5"
   ]
  },
  {
   "cell_type": "markdown",
   "metadata": {},
   "source": [
    "## Exercises - Functions\n",
    "\n",
    "(4). Create a function `divby2` that accepts a list and returns all values from that list that are divisible by 2.  For example, passing the list  `numbers = [3, 12, 91, 33, 21, 34, 54, 34, 34, 54]` should return a list. Generate a new list `divby2` that includes only numbers that are divisible by 2. "
   ]
  },
  {
   "cell_type": "code",
   "execution_count": 230,
   "metadata": {},
   "outputs": [
    {
     "data": {
      "text/plain": [
       "<function __main__.divby2>"
      ]
     },
     "execution_count": 230,
     "metadata": {},
     "output_type": "execute_result"
    }
   ],
   "source": [
    "#Define your function here. \n",
    "import numpy as np\n",
    "\n",
    "def divby2(x):\n",
    "    divby2=list(filter(lambda x: x % 2 == 0, x))\n",
    "    return divby2\n",
    "divby2\n"
   ]
  },
  {
   "cell_type": "code",
   "execution_count": 231,
   "metadata": {},
   "outputs": [
    {
     "name": "stdout",
     "output_type": "stream",
     "text": [
      "[12, 34, 54, 34, 34, 54]\n"
     ]
    }
   ],
   "source": [
    "#Execute this code to assign divby2 to the correct values. \n",
    "\n",
    "numbers = [3, 12, 91, 33, 21, 34, 54, 34, 34, 54]\n",
    "divby2=(divby2(numbers))\n",
    "print(divby2)\n",
    "\n"
   ]
  },
  {
   "cell_type": "markdown",
   "metadata": {},
   "source": [
    "(5) Create an external module for your `divby2` function called `myutilities.py`.  Import myutilities as mu, such that that following runs.\n",
    "\n"
   ]
  },
  {
   "cell_type": "code",
   "execution_count": 232,
   "metadata": {},
   "outputs": [
    {
     "name": "stdout",
     "output_type": "stream",
     "text": [
      "[12, 34, 54, 34, 34, 54]\n"
     ]
    }
   ],
   "source": [
    "#After importing this should work. (Feel free to add code to reimport)\n",
    "import myutilities as mu\n",
    "divby2mod=mu.divby2(numbers)\n",
    "print(divby2mod)"
   ]
  },
  {
   "cell_type": "markdown",
   "metadata": {},
   "source": [
    "## Exercises-Titanic\n",
    "\n",
    "The following exercises will use the titanic data from Kaggle.  I've included it in the input folder just like Kaggle. "
   ]
  },
  {
   "cell_type": "code",
   "execution_count": 233,
   "metadata": {
    "collapsed": true
   },
   "outputs": [],
   "source": [
    "import numpy as np \n",
    "import pandas as pd \n",
    "\n",
    "# Input data files are available in the \"../input/\" directory.\n",
    "# Let's input them into a Pandas DataFrame\n",
    "train = pd.read_csv(\"../input/train.csv\")\n",
    "test  = pd.read_csv(\"../input/test.csv\")"
   ]
  },
  {
   "cell_type": "markdown",
   "metadata": {},
   "source": [
    "\n",
    "\n",
    "(6). While we can submit our answer to Kaggle to see how it will perform, we can also utilize our test data to assess accuracy. Accuracy is the percentage of predictions made correctly-i.e., the percentage of people in which our prediction regarding their survival. <br>Create columns in the training dataset `PredEveryoneDies` and `PredGender` with the same predictions which were included in the example notebook (06-intro-kaggle-baseline in the materials repository).   \n",
    "  \n",
    "\n"
   ]
  },
  {
   "cell_type": "code",
   "execution_count": 234,
   "metadata": {},
   "outputs": [
    {
     "data": {
      "text/html": [
       "<div>\n",
       "<style>\n",
       "    .dataframe thead tr:only-child th {\n",
       "        text-align: right;\n",
       "    }\n",
       "\n",
       "    .dataframe thead th {\n",
       "        text-align: left;\n",
       "    }\n",
       "\n",
       "    .dataframe tbody tr th {\n",
       "        vertical-align: top;\n",
       "    }\n",
       "</style>\n",
       "<table border=\"1\" class=\"dataframe\">\n",
       "  <thead>\n",
       "    <tr style=\"text-align: right;\">\n",
       "      <th></th>\n",
       "      <th>PassengerId</th>\n",
       "      <th>Survived</th>\n",
       "    </tr>\n",
       "  </thead>\n",
       "  <tbody>\n",
       "    <tr>\n",
       "      <th>0</th>\n",
       "      <td>1</td>\n",
       "      <td>0.0</td>\n",
       "    </tr>\n",
       "    <tr>\n",
       "      <th>1</th>\n",
       "      <td>2</td>\n",
       "      <td>1.0</td>\n",
       "    </tr>\n",
       "    <tr>\n",
       "      <th>2</th>\n",
       "      <td>3</td>\n",
       "      <td>1.0</td>\n",
       "    </tr>\n",
       "    <tr>\n",
       "      <th>3</th>\n",
       "      <td>4</td>\n",
       "      <td>1.0</td>\n",
       "    </tr>\n",
       "    <tr>\n",
       "      <th>4</th>\n",
       "      <td>5</td>\n",
       "      <td>0.0</td>\n",
       "    </tr>\n",
       "  </tbody>\n",
       "</table>\n",
       "</div>"
      ],
      "text/plain": [
       "   PassengerId  Survived\n",
       "0            1       0.0\n",
       "1            2       1.0\n",
       "2            3       1.0\n",
       "3            4       1.0\n",
       "4            5       0.0"
      ]
     },
     "execution_count": 234,
     "metadata": {},
     "output_type": "execute_result"
    }
   ],
   "source": [
    "#Answer\n",
    "#PredEveryoneDies\n",
    "train[\"PredEveryoneDies\"] = 0\n",
    "submission = train.loc[:,['PassengerId', 'PredEveryoneDies']]\n",
    "submission.to_csv('submiteveryonedies.csv', index=False)\n",
    "\n",
    "#PredGender\n",
    "train.loc[train['Sex'] == 'male', 'PredGender'] = 0\n",
    "train.loc[train['Sex'] == 'female', 'PredGender'] = 1\n",
    "train.PredGender.astype(int)\n",
    "submission = train.loc[:,['PassengerId', 'PredGender']]\n",
    "submission.rename(columns={'PredGender': 'Survived'}, inplace=True)\n",
    "\n",
    "submission.head()"
   ]
  },
  {
   "cell_type": "markdown",
   "metadata": {},
   "source": [
    "(7) Create variables `AccEveryoneDies` and `AccGender` using a calculation of accuracy of predictions for the `training` dataset.  "
   ]
  },
  {
   "cell_type": "code",
   "execution_count": 235,
   "metadata": {},
   "outputs": [
    {
     "name": "stdout",
     "output_type": "stream",
     "text": [
      "61\n",
      "78\n"
     ]
    }
   ],
   "source": [
    "#Answers\n",
    "#AccEveryoneDies\n",
    "AccEveryoneDies = 0\n",
    "for i in range(len(train)):\n",
    "    if train.PredEveryoneDies[i]==train.Survived[i]:\n",
    "        AccEveryoneDies=AccEveryoneDies+1\n",
    "AccEveryoneDies= AccEveryoneDies*100/len(train)\n",
    "print(int(AccEveryoneDies))\n",
    "\n",
    "#AccGender\n",
    "AccGender=0\n",
    "for i in range(len(train)):\n",
    "    if train.PredGender[i]==train.Survived[i]:\n",
    "        AccGender=AccGender+1\n",
    "AccGender=AccGender*100/len(train)\n",
    "print(int(AccGender))"
   ]
  },
  {
   "cell_type": "markdown",
   "metadata": {},
   "source": [
    "(8). Notice how we are utilizing the code to select out the `passengerID` and the `Survived` column and generating a submission file over and over? This is in need of a function.  Create a `generate_submission` function that accepts a DataFrame, a target column, and a filename and writes out the submission file with just the `passengerID` and the `Survived` columns, where the survived column is equal to the target column. It should then return a DataFrame with the `passengerID` and the `Survived` columns.\n",
    "\n",
    "Executeing the following:\n",
    "`submitdie = generate_submission(train, 'PredEveryoneDies', 'submiteveryonedies.csv')`\n",
    "\n",
    "Should return a dataframe with just `passengerID` and the `Survived` column.  \n",
    "\n",
    "\n"
   ]
  },
  {
   "cell_type": "code",
   "execution_count": 277,
   "metadata": {},
   "outputs": [
    {
     "name": "stdout",
     "output_type": "stream",
     "text": [
      "     PassengerId  Survived\n",
      "0              1         0\n",
      "1              2         0\n",
      "2              3         0\n",
      "3              4         0\n",
      "4              5         0\n",
      "5              6         0\n",
      "6              7         0\n",
      "7              8         0\n",
      "8              9         0\n",
      "9             10         0\n",
      "10            11         0\n",
      "11            12         0\n",
      "12            13         0\n",
      "13            14         0\n",
      "14            15         0\n",
      "15            16         0\n",
      "16            17         0\n",
      "17            18         0\n",
      "18            19         0\n",
      "19            20         0\n",
      "20            21         0\n",
      "21            22         0\n",
      "22            23         0\n",
      "23            24         0\n",
      "24            25         0\n",
      "25            26         0\n",
      "26            27         0\n",
      "27            28         0\n",
      "28            29         0\n",
      "29            30         0\n",
      "..           ...       ...\n",
      "861          862         0\n",
      "862          863         0\n",
      "863          864         0\n",
      "864          865         0\n",
      "865          866         0\n",
      "866          867         0\n",
      "867          868         0\n",
      "868          869         0\n",
      "869          870         0\n",
      "870          871         0\n",
      "871          872         0\n",
      "872          873         0\n",
      "873          874         0\n",
      "874          875         0\n",
      "875          876         0\n",
      "876          877         0\n",
      "877          878         0\n",
      "878          879         0\n",
      "879          880         0\n",
      "880          881         0\n",
      "881          882         0\n",
      "882          883         0\n",
      "883          884         0\n",
      "884          885         0\n",
      "885          886         0\n",
      "886          887         0\n",
      "887          888         0\n",
      "888          889         0\n",
      "889          890         0\n",
      "890          891         0\n",
      "\n",
      "[891 rows x 2 columns]\n"
     ]
    }
   ],
   "source": [
    "#Answer\n",
    "#generate_submission function\n",
    "def generate_submission(df, col, file):\n",
    "    submission = df.loc[:,['PassengerId', col]]\n",
    "    submission.rename(columns={col: 'Survived'}, inplace=True)\n",
    "    submission.to_csv(file, index=False)\n",
    "    return submission\n",
    "\n",
    "submitdie = generate_submission(train, 'PredEveryoneDies', 'submiteveryonedies.csv')    \n",
    "print(submitdie)"
   ]
  },
  {
   "cell_type": "markdown",
   "metadata": {},
   "source": [
    "\n",
    "(9). In accordance to the [women and children first](https://en.wikipedia.org/wiki/Women_and_children_first) protocol, we hypothesize that our model could be improved by including whether the individual was a child in addition to gender.  *After* coding survival based on gender, update your recommendation to prediction in the training dataset survival based on age. <br> <br>\n",
    "\n",
    "In other words, your model should predict that a male child would survive.  \n",
    "\n",
    "`train['PredGenderAge13']` should be the prediction incorporating both Gender and whether Age <  13.\n",
    "`train['PredGenderAge18']` should be the prediction incorporating both Gender and whether Age <  18.\n",
    "`AccGenderAge13` should be the accuracy of the age prediction, based on `train['PredGenderAge13']`. \n",
    "`AccGenderAge18` should be the accuracy of the age prediction, based on `train['PredGenderAge18']`.\n",
    "\n",
    "\n"
   ]
  },
  {
   "cell_type": "code",
   "execution_count": 270,
   "metadata": {
    "scrolled": true
   },
   "outputs": [
    {
     "name": "stdout",
     "output_type": "stream",
     "text": [
      "0      0.0\n",
      "1      1.0\n",
      "2      1.0\n",
      "3      1.0\n",
      "4      0.0\n",
      "5      0.0\n",
      "6      0.0\n",
      "7      1.0\n",
      "8      1.0\n",
      "9      1.0\n",
      "10     1.0\n",
      "11     1.0\n",
      "12     0.0\n",
      "13     0.0\n",
      "14     1.0\n",
      "15     1.0\n",
      "16     1.0\n",
      "17     0.0\n",
      "18     1.0\n",
      "19     1.0\n",
      "20     0.0\n",
      "21     0.0\n",
      "22     1.0\n",
      "23     0.0\n",
      "24     1.0\n",
      "25     1.0\n",
      "26     0.0\n",
      "27     0.0\n",
      "28     1.0\n",
      "29     0.0\n",
      "      ... \n",
      "861    0.0\n",
      "862    1.0\n",
      "863    1.0\n",
      "864    0.0\n",
      "865    1.0\n",
      "866    1.0\n",
      "867    0.0\n",
      "868    0.0\n",
      "869    1.0\n",
      "870    0.0\n",
      "871    1.0\n",
      "872    0.0\n",
      "873    0.0\n",
      "874    1.0\n",
      "875    1.0\n",
      "876    0.0\n",
      "877    0.0\n",
      "878    0.0\n",
      "879    1.0\n",
      "880    1.0\n",
      "881    0.0\n",
      "882    1.0\n",
      "883    0.0\n",
      "884    0.0\n",
      "885    1.0\n",
      "886    0.0\n",
      "887    1.0\n",
      "888    1.0\n",
      "889    0.0\n",
      "890    0.0\n",
      "Name: PredGenderAge13, Length: 891, dtype: float64\n"
     ]
    },
    {
     "data": {
      "text/plain": [
       "0.3939393939393939"
      ]
     },
     "execution_count": 270,
     "metadata": {},
     "output_type": "execute_result"
    }
   ],
   "source": [
    "#Answer\n",
    "#PredGenderAge13\n",
    "train['PredGenderAge13']=train['PredGender']\n",
    "train.loc[train['Age'] <13, 'PredGenderAge13'] =1\n",
    "train.loc[train['Sex'] == 'female', 'PredGenderAge13'] =1\n",
    "print(train['PredGenderAge13'])\n",
    "(train['PredGenderAge13'].mean())\n"
   ]
  },
  {
   "cell_type": "code",
   "execution_count": 262,
   "metadata": {},
   "outputs": [
    {
     "name": "stdout",
     "output_type": "stream",
     "text": [
      "79.2368125701459\n"
     ]
    }
   ],
   "source": [
    "#Answer\n",
    "#AccGenderAge13\n",
    "AccGenderAge13 = 0\n",
    "for i in range(len(train)):\n",
    "    if train.PredGenderAge13[i]==train.Survived[i]:\n",
    "        AccGenderAge13=AccGenderAge13+1\n",
    "AccGenderAge13= AccGenderAge13*100/len(train)\n",
    "print(AccGenderAge13)"
   ]
  },
  {
   "cell_type": "code",
   "execution_count": 271,
   "metadata": {},
   "outputs": [
    {
     "name": "stdout",
     "output_type": "stream",
     "text": [
      "0      0.0\n",
      "1      1.0\n",
      "2      1.0\n",
      "3      1.0\n",
      "4      0.0\n",
      "5      0.0\n",
      "6      0.0\n",
      "7      1.0\n",
      "8      1.0\n",
      "9      1.0\n",
      "10     1.0\n",
      "11     1.0\n",
      "12     0.0\n",
      "13     0.0\n",
      "14     1.0\n",
      "15     1.0\n",
      "16     1.0\n",
      "17     0.0\n",
      "18     1.0\n",
      "19     1.0\n",
      "20     0.0\n",
      "21     0.0\n",
      "22     1.0\n",
      "23     0.0\n",
      "24     1.0\n",
      "25     1.0\n",
      "26     0.0\n",
      "27     0.0\n",
      "28     1.0\n",
      "29     0.0\n",
      "      ... \n",
      "861    0.0\n",
      "862    1.0\n",
      "863    1.0\n",
      "864    0.0\n",
      "865    1.0\n",
      "866    1.0\n",
      "867    0.0\n",
      "868    0.0\n",
      "869    1.0\n",
      "870    0.0\n",
      "871    1.0\n",
      "872    0.0\n",
      "873    0.0\n",
      "874    1.0\n",
      "875    1.0\n",
      "876    0.0\n",
      "877    0.0\n",
      "878    0.0\n",
      "879    1.0\n",
      "880    1.0\n",
      "881    0.0\n",
      "882    1.0\n",
      "883    0.0\n",
      "884    0.0\n",
      "885    1.0\n",
      "886    0.0\n",
      "887    1.0\n",
      "888    1.0\n",
      "889    0.0\n",
      "890    0.0\n",
      "Name: PredGenderAge18, Length: 891, dtype: float64\n"
     ]
    },
    {
     "data": {
      "text/plain": [
       "0.4175084175084175"
      ]
     },
     "execution_count": 271,
     "metadata": {},
     "output_type": "execute_result"
    }
   ],
   "source": [
    "#Answer\n",
    "#PredGenderAge18\n",
    "train['PredGenderAge18']=train['PredGender']\n",
    "train.loc[train['Age'] <18, 'PredGenderAge18'] =1\n",
    "train.loc[train['Sex'] == 'female', 'PredGenderAge18'] =1\n",
    "print(train['PredGenderAge18'])\n",
    "(train['PredGenderAge18'].mean())"
   ]
  },
  {
   "cell_type": "code",
   "execution_count": 266,
   "metadata": {},
   "outputs": [
    {
     "name": "stdout",
     "output_type": "stream",
     "text": [
      "77.32884399551067\n"
     ]
    }
   ],
   "source": [
    "#Answer\n",
    "#AccGenderAge18\n",
    "AccGenderAge18 = 0\n",
    "for i in range(len(train)):\n",
    "    if train.PredGenderAge18[i]==train.Survived[i]:\n",
    "        AccGenderAge18=AccGenderAge18+1\n",
    "AccGenderAge18= AccGenderAge18*100/len(train)\n",
    "print(AccGenderAge18)"
   ]
  },
  {
   "cell_type": "markdown",
   "metadata": {},
   "source": [
    "(10). Create a prediction file for the \"women and children first\" model in column` PredGenderAge13` and upload it to Kaggle.  Take a screen shot of your position. Put that screenshot in this repository and use markdown to show your results in the cell below.  The syntax for including a markdown picture is shown below.  \n",
    "\n",
    "```\n",
    "![]myscreenshot.png\n",
    "```"
   ]
  },
  {
   "cell_type": "code",
   "execution_count": 287,
   "metadata": {},
   "outputs": [],
   "source": [
    "#Answer\n",
    "#PredGenderAge13\n",
    "test['PredGenderAge13']=0\n",
    "test.loc[test['Age'] <13, 'PredGenderAge13'] =1\n",
    "test.loc[test['Sex'] == 'female', 'PredGenderAge13'] =1\n",
    "\n",
    "submitwomenchildrenfirst = generate_submission(test, 'PredGenderAge13', 'womenchildrenfirst.csv') \n"
   ]
  },
  {
   "cell_type": "markdown",
   "metadata": {
    "collapsed": true
   },
   "source": [
    "#Answer\n",
    "![](myscreenshot.png)"
   ]
  },
  {
   "cell_type": "markdown",
   "metadata": {},
   "source": [
    "(11). You should find that the AccGenderAge13 is better than AccGenderAge18. Create a new column `child` in the test and train DataFrames that is 1 if Age <  13 and 0 otherwise.  This is a *feature*.  We will talk more about features next time.  \n",
    "\n",
    "\n"
   ]
  },
  {
   "cell_type": "code",
   "execution_count": 295,
   "metadata": {},
   "outputs": [
    {
     "name": "stdout",
     "output_type": "stream",
     "text": [
      "   PassengerId  Pclass                                          Name     Sex  \\\n",
      "0          892       3                              Kelly, Mr. James    male   \n",
      "1          893       3              Wilkes, Mrs. James (Ellen Needs)  female   \n",
      "2          894       2                     Myles, Mr. Thomas Francis    male   \n",
      "3          895       3                              Wirz, Mr. Albert    male   \n",
      "4          896       3  Hirvonen, Mrs. Alexander (Helga E Lindqvist)  female   \n",
      "\n",
      "    Age  SibSp  Parch   Ticket     Fare Cabin Embarked  PredGenderAge13  child  \n",
      "0  34.5      0      0   330911   7.8292   NaN        Q                0      0  \n",
      "1  47.0      1      0   363272   7.0000   NaN        S                1      0  \n",
      "2  62.0      0      0   240276   9.6875   NaN        Q                0      0  \n",
      "3  27.0      0      0   315154   8.6625   NaN        S                0      0  \n",
      "4  22.0      1      1  3101298  12.2875   NaN        S                1      0  \n"
     ]
    }
   ],
   "source": [
    "#Answer \n",
    "train['child']=0\n",
    "train.loc[train['Age'] <13, 'child'] =1\n",
    "\n",
    "test['child']=0\n",
    "test.loc[test['Age'] <13, 'child'] =1\n",
    "\n"
   ]
  },
  {
   "cell_type": "code",
   "execution_count": 296,
   "metadata": {},
   "outputs": [
    {
     "data": {
      "application/unittest.status+json": {
       "color": "yellow",
       "message": "",
       "previous": 0
      },
      "text/plain": []
     },
     "metadata": {},
     "output_type": "display_data"
    },
    {
     "data": {
      "application/unittest.status+json": {
       "color": "lightgreen",
       "message": "...............\n----------------------------------------------------------------------\nRan 15 tests in 0.014s\n\nOK\n",
       "previous": 0
      },
      "text/plain": [
       "Success"
      ]
     },
     "metadata": {},
     "output_type": "display_data"
    },
    {
     "name": "stdout",
     "output_type": "stream",
     "text": [
      "...............\n",
      "----------------------------------------------------------------------\n",
      "Ran 15 tests in 0.014s\n",
      "\n",
      "OK\n"
     ]
    },
    {
     "data": {
      "text/plain": [
       "<unittest.runner.TextTestResult run=15 errors=0 failures=0>"
      ]
     },
     "execution_count": 296,
     "metadata": {},
     "output_type": "execute_result"
    }
   ],
   "source": [
    "%%unittest_main\n",
    "class TestExercise3(unittest.TestCase):\n",
    "    def test_forif1(self):\n",
    "        self.assertTrue(fivetoten == [5,6,7,8,9,10])\n",
    "    def test_forif2(self):\n",
    "        self.assertTrue(divby7 == [7,14,21,28,35,42,49])\n",
    "    def test_forif(self):\n",
    "        self.assertTrue(divby7not5 == [10003, 10017, 10024, 10031, 10038, 10052, 10059, 10066, 10073, 10087, 10094])\n",
    "    def test_functions(self):\n",
    "        self.assertTrue(divby2 == [12, 34, 54, 34, 34, 54])\n",
    "    def test_functions(self):\n",
    "        self.assertTrue(divby2mod == [12, 34, 54, 34, 34, 54])\n",
    "    def test_titanic1(self):\n",
    "        self.assertAlmostEqual(AccEveryoneDies, 61.6161616162)\n",
    "    def test_titanic2(self):\n",
    "        self.assertAlmostEqual(AccGender, 78.6756453423)\n",
    "    def test_titanic3(self):\n",
    "        self.assertAlmostEqual(train['PredEveryoneDies'].mean(), 0.0)\n",
    "    def test_titanic4(self):\n",
    "        self.assertAlmostEqual(train['PredGender'].mean(), 0.35241301908)\n",
    "    def test_titanic5(self):\n",
    "        self.assertTrue(['PassengerId', 'Survived']==list(pd.read_csv('submiteveryonedies.csv').columns.values))\n",
    "    def test_titanic6(self):\n",
    "        self.assertAlmostEqual(train['PredGenderAge13'].mean(), 0.393939393939)\n",
    "    def test_titanic7(self):\n",
    "        self.assertAlmostEqual(train['PredGenderAge18'].mean(), 0.417508417508)\n",
    "    def test_titanic8(self):\n",
    "        self.assertAlmostEqual(AccGenderAge13, 79.2368125701)\n",
    "    def test_titanic9(self):\n",
    "        self.assertAlmostEqual(AccGenderAge18, 77.3288439955)\n",
    "    def test_titanic10(self):\n",
    "        self.assertTrue(train['child'].sum()==69)\n",
    "    def test_titanic11(self):\n",
    "        self.assertTrue(test['child'].sum()==25)"
   ]
  },
  {
   "cell_type": "code",
   "execution_count": null,
   "metadata": {
    "collapsed": true
   },
   "outputs": [],
   "source": [
    "#This is a collection of all of the tests from the exercises above. "
   ]
  },
  {
   "cell_type": "code",
   "execution_count": null,
   "metadata": {
    "collapsed": true
   },
   "outputs": [],
   "source": []
  }
 ],
 "metadata": {
  "anaconda-cloud": {},
  "celltoolbar": "Slideshow",
  "kernelspec": {
   "display_name": "Python 3",
   "language": "python",
   "name": "python3"
  }
 },
 "nbformat": 4,
 "nbformat_minor": 1
}
